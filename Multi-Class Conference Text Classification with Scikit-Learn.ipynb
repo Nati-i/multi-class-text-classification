{
 "cells": [
  {
   "cell_type": "markdown",
   "metadata": {},
   "source": [
    "IENLP Project : Natural Language Processing Using Scikit-Learn\n",
    "===========\n",
    "\n",
    "This goal of this notebook is to build a system, based on *text classification* that is able to accurately recommend a conference given a title of conference paper.\n",
    "\n",
    "#### The main objectives of the project are as follows:\n",
    "- Design and implement a system to recommend a conference to a researcher for a given title\n",
    "- Perform the task stated above by using the provided conference proceedings trianing data\n",
    "- Use a few classification algorithms to achieve the task of classificaiton\n",
    "- Evaluate the system by using cross-validation approach\n",
    "- Test the system with the provided test dataset and report results"
   ]
  },
  {
   "cell_type": "markdown",
   "metadata": {},
   "source": [
    "#### Import Relevant Libraries\n",
    "In this project the following libraries will be used:\n",
    "- nltk: natural language processing library \n",
    "- os: handling file locations\n",
    "- re: handling regular expressions\n",
    "- string: handling various String manipulations\n",
    "- pandas: representing and handling data\n",
    "- numpy: handling numerical data\n",
    "- seaborn: visualizing data\n",
    "- matplotlib: visualizing data"
   ]
  },
  {
   "cell_type": "code",
   "execution_count": 1,
   "metadata": {},
   "outputs": [],
   "source": [
    "import nltk # nltk library for natural language processing\n",
    "\n",
    "from nltk.corpus import stopwords # stopwords that can be removed from text\n",
    "from nltk import word_tokenize\n",
    "\n",
    "\n",
    "import os # os library to handle file locations\n",
    "import re # regular expressions\n",
    "import string\n",
    "\n",
    "# Data processing\n",
    "import pandas as pd\n",
    "import numpy as np\n",
    "\n",
    "# Visualization\n",
    "import seaborn as sns\n",
    "import matplotlib.pyplot as plt\n",
    "%matplotlib inline\n",
    "\n",
    "# Uncomment the following if necessary:\n",
    "#nltk.download(\"stopwords\")"
   ]
  },
  {
   "cell_type": "markdown",
   "metadata": {},
   "source": [
    "## Part 1: Data Exploration\n",
    "\n",
    "### Description of the Train Dataset\n",
    "The data set contains the following informaiton:\n",
    "- Conference Name: The name of the conference where which the given title takes place\n",
    "- Title: The title of the conference paper which takes place at the given conference\n",
    "\n",
    "Additional Information about the Dataset:\n",
    "- 5 Unique conference names\n",
    "- 21,643 unique titles, and data points (no repeating titles)\n",
    "- ISCAS is the conference with most titles"
   ]
  },
  {
   "cell_type": "markdown",
   "metadata": {},
   "source": [
    "#### Organize data into pandas dataframes:"
   ]
  },
  {
   "cell_type": "code",
   "execution_count": 2,
   "metadata": {},
   "outputs": [],
   "source": [
    "train_df = pd.read_csv('datasets/DBLPTrainset.txt',sep='\\t',names=['Index', 'Conference Name', 'Title'],index_col='Index')\n",
    "train_df['Length of Title'] = train_df['Title'].apply(len)\n",
    "\n",
    "test_df = pd.read_csv('datasets/DBLPTestGroundTruth.txt',sep='\\t',names=['Index','Conference Name'],index_col='Index')\n",
    "_test_df = pd.read_csv('datasets/DBLPTestset.txt',sep='\\t',names=['Index','Title'],index_col='Index')\n",
    "\n",
    "\n",
    "test_df['Title'] = _test_df['Title']"
   ]
  },
  {
   "cell_type": "markdown",
   "metadata": {},
   "source": [
    "#### Exoplore the training data set\n",
    "Note: the test data set is similar to the training dataset and thus its exploration is omitted"
   ]
  },
  {
   "cell_type": "code",
   "execution_count": 3,
   "metadata": {},
   "outputs": [
    {
     "data": {
      "text/html": [
       "<div>\n",
       "<style scoped>\n",
       "    .dataframe tbody tr th:only-of-type {\n",
       "        vertical-align: middle;\n",
       "    }\n",
       "\n",
       "    .dataframe tbody tr th {\n",
       "        vertical-align: top;\n",
       "    }\n",
       "\n",
       "    .dataframe thead th {\n",
       "        text-align: right;\n",
       "    }\n",
       "</style>\n",
       "<table border=\"1\" class=\"dataframe\">\n",
       "  <thead>\n",
       "    <tr style=\"text-align: right;\">\n",
       "      <th></th>\n",
       "      <th>Conference Name</th>\n",
       "      <th>Title</th>\n",
       "      <th>Length of Title</th>\n",
       "    </tr>\n",
       "    <tr>\n",
       "      <th>Index</th>\n",
       "      <th></th>\n",
       "      <th></th>\n",
       "      <th></th>\n",
       "    </tr>\n",
       "  </thead>\n",
       "  <tbody>\n",
       "    <tr>\n",
       "      <th>0</th>\n",
       "      <td>ISCAS</td>\n",
       "      <td>Scalable Serial-parallel Multiplier over GF(2m...</td>\n",
       "      <td>102</td>\n",
       "    </tr>\n",
       "    <tr>\n",
       "      <th>1</th>\n",
       "      <td>SIGGRAPH</td>\n",
       "      <td>Plenoptic sampling.</td>\n",
       "      <td>19</td>\n",
       "    </tr>\n",
       "    <tr>\n",
       "      <th>2</th>\n",
       "      <td>ISCAS</td>\n",
       "      <td>Sensitivity and uniformity of a 0.18micrometer...</td>\n",
       "      <td>82</td>\n",
       "    </tr>\n",
       "  </tbody>\n",
       "</table>\n",
       "</div>"
      ],
      "text/plain": [
       "      Conference Name                                              Title  \\\n",
       "Index                                                                      \n",
       "0               ISCAS  Scalable Serial-parallel Multiplier over GF(2m...   \n",
       "1            SIGGRAPH                                Plenoptic sampling.   \n",
       "2               ISCAS  Sensitivity and uniformity of a 0.18micrometer...   \n",
       "\n",
       "       Length of Title  \n",
       "Index                   \n",
       "0                  102  \n",
       "1                   19  \n",
       "2                   82  "
      ]
     },
     "execution_count": 3,
     "metadata": {},
     "output_type": "execute_result"
    }
   ],
   "source": [
    "train_df.head(3)"
   ]
  },
  {
   "cell_type": "code",
   "execution_count": 4,
   "metadata": {},
   "outputs": [
    {
     "data": {
      "text/html": [
       "<div>\n",
       "<style scoped>\n",
       "    .dataframe tbody tr th:only-of-type {\n",
       "        vertical-align: middle;\n",
       "    }\n",
       "\n",
       "    .dataframe tbody tr th {\n",
       "        vertical-align: top;\n",
       "    }\n",
       "\n",
       "    .dataframe thead th {\n",
       "        text-align: right;\n",
       "    }\n",
       "</style>\n",
       "<table border=\"1\" class=\"dataframe\">\n",
       "  <thead>\n",
       "    <tr style=\"text-align: right;\">\n",
       "      <th></th>\n",
       "      <th>Conference Name</th>\n",
       "      <th>Title</th>\n",
       "    </tr>\n",
       "  </thead>\n",
       "  <tbody>\n",
       "    <tr>\n",
       "      <th>count</th>\n",
       "      <td>21643</td>\n",
       "      <td>21643</td>\n",
       "    </tr>\n",
       "    <tr>\n",
       "      <th>unique</th>\n",
       "      <td>5</td>\n",
       "      <td>21497</td>\n",
       "    </tr>\n",
       "    <tr>\n",
       "      <th>top</th>\n",
       "      <td>ISCAS</td>\n",
       "      <td>Front Matter.</td>\n",
       "    </tr>\n",
       "    <tr>\n",
       "      <th>freq</th>\n",
       "      <td>7514</td>\n",
       "      <td>17</td>\n",
       "    </tr>\n",
       "  </tbody>\n",
       "</table>\n",
       "</div>"
      ],
      "text/plain": [
       "       Conference Name          Title\n",
       "count            21643          21643\n",
       "unique               5          21497\n",
       "top              ISCAS  Front Matter.\n",
       "freq              7514             17"
      ]
     },
     "execution_count": 4,
     "metadata": {},
     "output_type": "execute_result"
    }
   ],
   "source": [
    "train_df.drop('Length of Title',axis=1).describe()"
   ]
  },
  {
   "cell_type": "code",
   "execution_count": 5,
   "metadata": {},
   "outputs": [
    {
     "data": {
      "text/html": [
       "<div>\n",
       "<style scoped>\n",
       "    .dataframe tbody tr th:only-of-type {\n",
       "        vertical-align: middle;\n",
       "    }\n",
       "\n",
       "    .dataframe tbody tr th {\n",
       "        vertical-align: top;\n",
       "    }\n",
       "\n",
       "    .dataframe thead th {\n",
       "        text-align: right;\n",
       "    }\n",
       "</style>\n",
       "<table border=\"1\" class=\"dataframe\">\n",
       "  <thead>\n",
       "    <tr style=\"text-align: right;\">\n",
       "      <th></th>\n",
       "      <th>Length of Title</th>\n",
       "    </tr>\n",
       "  </thead>\n",
       "  <tbody>\n",
       "    <tr>\n",
       "      <th>count</th>\n",
       "      <td>21643.000000</td>\n",
       "    </tr>\n",
       "    <tr>\n",
       "      <th>mean</th>\n",
       "      <td>67.722682</td>\n",
       "    </tr>\n",
       "    <tr>\n",
       "      <th>std</th>\n",
       "      <td>22.487214</td>\n",
       "    </tr>\n",
       "    <tr>\n",
       "      <th>min</th>\n",
       "      <td>5.000000</td>\n",
       "    </tr>\n",
       "    <tr>\n",
       "      <th>25%</th>\n",
       "      <td>52.000000</td>\n",
       "    </tr>\n",
       "    <tr>\n",
       "      <th>50%</th>\n",
       "      <td>67.000000</td>\n",
       "    </tr>\n",
       "    <tr>\n",
       "      <th>75%</th>\n",
       "      <td>83.000000</td>\n",
       "    </tr>\n",
       "    <tr>\n",
       "      <th>max</th>\n",
       "      <td>214.000000</td>\n",
       "    </tr>\n",
       "  </tbody>\n",
       "</table>\n",
       "</div>"
      ],
      "text/plain": [
       "       Length of Title\n",
       "count     21643.000000\n",
       "mean         67.722682\n",
       "std          22.487214\n",
       "min           5.000000\n",
       "25%          52.000000\n",
       "50%          67.000000\n",
       "75%          83.000000\n",
       "max         214.000000"
      ]
     },
     "execution_count": 5,
     "metadata": {},
     "output_type": "execute_result"
    }
   ],
   "source": [
    "train_df.describe()"
   ]
  },
  {
   "cell_type": "code",
   "execution_count": 6,
   "metadata": {},
   "outputs": [
    {
     "name": "stdout",
     "output_type": "stream",
     "text": [
      "<class 'pandas.core.frame.DataFrame'>\n",
      "Int64Index: 21643 entries, 0 to 21642\n",
      "Data columns (total 3 columns):\n",
      "Conference Name    21643 non-null object\n",
      "Title              21643 non-null object\n",
      "Length of Title    21643 non-null int64\n",
      "dtypes: int64(1), object(2)\n",
      "memory usage: 676.3+ KB\n"
     ]
    }
   ],
   "source": [
    "train_df.info()"
   ]
  },
  {
   "cell_type": "markdown",
   "metadata": {},
   "source": [
    "### Visualizing the Dataset\n",
    "\n",
    "Let us now visualize the dataset in order to acquire familiarity.\n",
    "\n",
    "We will be looking at the following:\n",
    " - Frequency of Conference Names \n",
    " - Length of Titles Per Conference"
   ]
  },
  {
   "cell_type": "markdown",
   "metadata": {},
   "source": [
    "#### Frequency of Conference Names"
   ]
  },
  {
   "cell_type": "code",
   "execution_count": 7,
   "metadata": {},
   "outputs": [
    {
     "data": {
      "image/png": "[encoded data removed]",
      "text/plain": [
       "<Figure size 1296x432 with 2 Axes>"
      ]
     },
     "metadata": {},
     "output_type": "display_data"
    }
   ],
   "source": [
    "fig, ax = plt.subplots(1,2, figsize=(18,6))\n",
    "\n",
    "sns.countplot(train_df['Conference Name'],ax=ax[0])\n",
    "ax[0].set(xlabel=\"Conference\")\n",
    "\n",
    "sns.stripplot(x=\"Conference Name\", y=\"Length of Title\", jitter=True, data=train_df,ax=ax[1])\n",
    "\n",
    "fig.tight_layout()"
   ]
  },
  {
   "cell_type": "markdown",
   "metadata": {},
   "source": [
    "The plot on the left shows that the titles are distributed similarly across the different conferences, with the exception of ISCAS. Furthermore, the length of titles per conference is also distributed similarly. It seems that there isn't a clear way to visually identify a conference based on the length of a given title.\n",
    "\n",
    "#### Note\n",
    "\n",
    "The plot above shows that the majority of the titles belog to the ISCAS conference. This might perhaps raise a problem because conventional algorithms are known to be often biased towards the major catagory, without taking the general distribution into account."
   ]
  },
  {
   "cell_type": "markdown",
   "metadata": {},
   "source": [
    "#### Distribution of Length Titles"
   ]
  },
  {
   "cell_type": "code",
   "execution_count": 9,
   "metadata": {},
   "outputs": [
    {
     "data": {
      "image/png": "[encoded data removed]",
      "text/plain": [
       "<Figure size 648x360 with 1 Axes>"
      ]
     },
     "metadata": {},
     "output_type": "display_data"
    }
   ],
   "source": [
    "fig, ax = plt.subplots(1, figsize=(9,5))\n",
    "sns.countplot(train_df['Length of Title'],ax=ax)\n",
    "ax.set(xlabel='Length of Title',ylabel='Frequency')\n",
    "ax.xaxis.set_major_formatter(plt.NullFormatter())\n",
    "fig.tight_layout()"
   ]
  },
  {
   "cell_type": "markdown",
   "metadata": {},
   "source": [
    "The length of titles in the given training set seem to be following a normal distribution, with a slight skew to the left (positive skew)"
   ]
  },
  {
   "cell_type": "markdown",
   "metadata": {},
   "source": [
    "## Part 2: Data Preprocessing\n",
    "\n",
    "Now that the data is neatly organized into pandas dataframes we can proceed with further processing. The main goal of this section is to prepare the corpus for text classification algorithms.\n",
    "\n",
    "The tasks at hand are the following:\n",
    "- Clean: remove unwanted textual data\n",
    "- Toekenize: perform text toekenization\n",
    "- Vectorize: perform text vectorization by using bag of words model\n",
    "- Determine term frequency: weigh importance of words in their titles\n",
    "- Determine inverse data frequencey: Weigh importance of a word compared to other titles in the corpus"
   ]
  },
  {
   "cell_type": "markdown",
   "metadata": {},
   "source": [
    "### Tokenization\n",
    "\n",
    "We will now define a tokenization function that suits well to our purpose of classifying titles to their corresponding titles. In order to do that we will take the following into account:\n",
    "\n",
    "- Remove characters that are not part of the English alphabet\n",
    "- Remove punctuation\n",
    "- Convert all text to lowercase\n",
    "- Remove English stopwords\n",
    "\n",
    "Some of these might not be relevat to the titles because they might be technicall and hardly contain factors listed above."
   ]
  },
  {
   "cell_type": "code",
   "execution_count": 10,
   "metadata": {},
   "outputs": [],
   "source": [
    "def custom_tokenizer(text):\n",
    "    \n",
    "    reg_ex = re.compile('[a-zA-Z0-9]+')\n",
    "    \n",
    "    no_punc = [char for char in text if char not in string.punctuation]\n",
    "    \n",
    "    no_punc = ''.join(no_punc)\n",
    "    \n",
    "    no_punc = [word.lower() for word in no_punc.split() if word.lower() not in stopwords.words(\"english\")]\n",
    "    \n",
    "    return list(filter(lambda word: reg_ex.match(word),no_punc))"
   ]
  },
  {
   "cell_type": "markdown",
   "metadata": {},
   "source": [
    "The function above can be applied to a title and it will convert it into a list of words without unnecessary words. An example is shown below:"
   ]
  },
  {
   "cell_type": "code",
   "execution_count": 11,
   "metadata": {},
   "outputs": [
    {
     "data": {
      "text/plain": [
       "Index\n",
       "0    [scalable, serialparallel, multiplier, gf2m, h...\n",
       "1                                [plenoptic, sampling]\n",
       "Name: Title, dtype: object"
      ]
     },
     "execution_count": 11,
     "metadata": {},
     "output_type": "execute_result"
    }
   ],
   "source": [
    "train_df['Title'].head(2).apply(custom_tokenizer)"
   ]
  },
  {
   "cell_type": "markdown",
   "metadata": {},
   "source": [
    "### Vectorization\n",
    "\n",
    "#### Bag of Words Model\n",
    "\n",
    "This model does the following:\n",
    "- Count the number of occurences of a word in each article\n",
    "- Weigh the counts according the their frequency of occurence\n",
    "- Normalize to unit length\n",
    "\n",
    "We will be using a feature extraction method, from sklearn, called CountVectorizer(). It will perform the task as we desire."
   ]
  },
  {
   "cell_type": "code",
   "execution_count": 13,
   "metadata": {},
   "outputs": [
    {
     "data": {
      "text/plain": [
       "CountVectorizer(analyzer=<function custom_tokenizer at 0x000002096ED3EB70>,\n",
       "        binary=False, decode_error='strict', dtype=<class 'numpy.int64'>,\n",
       "        encoding='utf-8', input='content', lowercase=True, max_df=1.0,\n",
       "        max_features=None, min_df=1, ngram_range=(1, 1), preprocessor=None,\n",
       "        stop_words=None, strip_accents=None,\n",
       "        token_pattern='(?u)\\\\b\\\\w\\\\w+\\\\b', tokenizer=None, vocabulary=None)"
      ]
     },
     "execution_count": 13,
     "metadata": {},
     "output_type": "execute_result"
    }
   ],
   "source": [
    "from sklearn.feature_extraction.text import CountVectorizer\n",
    "\n",
    "bow_model = CountVectorizer(analyzer=custom_tokenizer)\n",
    "bow_model.fit(train_df['Title'])"
   ]
  },
  {
   "cell_type": "markdown",
   "metadata": {},
   "source": [
    "Now that we fitted the trianing data into a bag of words model, we can look into the amount of vocabulary of the bag. Meaning, we can look how many words exist in our bag of words:"
   ]
  },
  {
   "cell_type": "code",
   "execution_count": 15,
   "metadata": {},
   "outputs": [
    {
     "name": "stdout",
     "output_type": "stream",
     "text": [
      "There are 19773 vocabulary words in the bag of words model.\n"
     ]
    }
   ],
   "source": [
    "print(\"There are \" + str(len(bow_model.vocabulary_)) + \n",
    "      \" vocabulary words in the bag of words model.\")"
   ]
  },
  {
   "cell_type": "markdown",
   "metadata": {},
   "source": [
    "The following task, once we have the bag of words, is to transform it into some sort of mathematical representation. This is done because the algorithms are suited for mathematical data rather than textual. \n",
    "\n",
    "We can convert the bag of words model into a sparse matrix. This very large sparse matrix will represent our bag and we will be using it in upcoming sections."
   ]
  },
  {
   "cell_type": "code",
   "execution_count": 16,
   "metadata": {},
   "outputs": [],
   "source": [
    "bow_conference = bow_model.transform(train_df['Title'])"
   ]
  },
  {
   "cell_type": "markdown",
   "metadata": {},
   "source": [
    "#### Note\n",
    "\n",
    "It is worth mentioning that this matrix is very sparse, meaning that it is mostly zero's; only 3.4% of it is non zero. Below, some extra information about the sparse matrix is shown:"
   ]
  },
  {
   "cell_type": "code",
   "execution_count": 18,
   "metadata": {},
   "outputs": [
    {
     "name": "stdout",
     "output_type": "stream",
     "text": [
      "Shape of transformed matrix is:  (21643, 19773)\n",
      "Number of non zero occurences in the matrix is:  146831\n",
      "The percentage of non zero occurences is:  3.4 %\n"
     ]
    }
   ],
   "source": [
    "print('Shape of transformed matrix is: ', bow_conference.shape)\n",
    "print('Number of non zero occurences in the matrix is: ', bow_conference.nnz)\n",
    "\n",
    "\n",
    "non_zero_percentage = (100.0 * bow_conference.nnz / (bow_conference.shape[0] * bow_conference.shape[1]))\n",
    "print(\"The percentage of non zero occurences is: \", round((non_zero_percentage*100),1),\"%\")\n",
    "\n"
   ]
  },
  {
   "cell_type": "markdown",
   "metadata": {},
   "source": [
    "#### Repeat the steps above for the test set\n",
    "\n",
    "It is important to use the same model for the test set as the training set, otherwise problems might arise as the dimentionality between the datasets mismatch. This is because the variable being tested, in this case the name of the conference, is a String and it needs a feature vector with the same number of dimentsions as X_test. Thus, the same bag of words model (bow_model) ought to be used."
   ]
  },
  {
   "cell_type": "code",
   "execution_count": 19,
   "metadata": {},
   "outputs": [],
   "source": [
    "bow_conference_test = bow_model.transform(test_df['Title'])"
   ]
  },
  {
   "cell_type": "markdown",
   "metadata": {},
   "source": [
    "### TF-IDF Model\n",
    "\n",
    "This model transforms the word count, done with CountVectorizre(), into term frequency and inverse document frequency.\n",
    "\n",
    "#### Term Frequency (TF)\n",
    "This parameter will determine the frequency of the word in each title of the collection and weighs it accordingly. Each title will have its own term frequency. Mathematically, the term frequency is defined as follows:\n",
    "\n",
    "$$tf_{i,j}= \\frac{n_{i,j}}{\\sum_{k}n_{i,j}}$$\n",
    "\n",
    "#### Inverse Data Frequency (IDF)\n",
    "This parameter will determine the weight of a word with respect to the collection of titles in the entire dataset. For example, the words that are rare will have a high IDF score. Mathematically, the IDF is definded as follows:\n",
    "\n",
    "$$idf_{w}= \\log\\frac{N}{df_{t}}$$\n",
    "\n",
    "Combining the two concepts above in a ratio, a TF-IDF score can be determinned:\n",
    "\n",
    "$$w_{i,j}= tf_{i,j}\\cdot\\log\\frac{N}{df_{t}}$$\n",
    "\n",
    "Fortunately sklearn's feature extraction modules contain a method that will perform the mathematical manipullations above rather easily and we will be using it for our task."
   ]
  },
  {
   "cell_type": "code",
   "execution_count": 21,
   "metadata": {},
   "outputs": [],
   "source": [
    "from sklearn.feature_extraction.text import TfidfTransformer\n",
    "\n",
    "tfidf_model = TfidfTransformer()\n",
    "tfidf_model.fit(bow_conference)\n",
    "\n",
    "conference_bow_tfidf = tfidf_model.transform(bow_conference)\n",
    "\n",
    "# Test Set:\n",
    "\n",
    "tfidf_model.fit(bow_conference_test)\n",
    "conference_bow_tfidf_test = tfidf_model.transform(bow_conference_test)"
   ]
  },
  {
   "cell_type": "markdown",
   "metadata": {},
   "source": [
    "## Part 3: Classification\n",
    "\n",
    "Now that the data is processed, it is ready for a classification algorithm. We will start the classification by using the Naive Bayes approach. Afterwards we will consider other classifiers and attempt to come up with a classifier that will have high accuracy.\n",
    "\n",
    "Note that we will be using sklearn's implementation of the algorithms for our task."
   ]
  },
  {
   "cell_type": "code",
   "execution_count": 23,
   "metadata": {},
   "outputs": [],
   "source": [
    "from sklearn.naive_bayes import MultinomialNB"
   ]
  },
  {
   "cell_type": "markdown",
   "metadata": {},
   "source": [
    "The first task is to fit the Naive Bayes model onto the data we prepared. Then, we need to use the fitted model to test it on title it has never seen before so that the accuracy of the model can be quantified."
   ]
  },
  {
   "cell_type": "code",
   "execution_count": 24,
   "metadata": {},
   "outputs": [
    {
     "data": {
      "text/plain": [
       "MultinomialNB(alpha=1.0, class_prior=None, fit_prior=True)"
      ]
     },
     "execution_count": 24,
     "metadata": {},
     "output_type": "execute_result"
    }
   ],
   "source": [
    "nb_classifier = MultinomialNB()\n",
    "nb_classifier.fit(conference_bow_tfidf, train_df['Conference Name'])"
   ]
  },
  {
   "cell_type": "markdown",
   "metadata": {},
   "source": [
    "#### Prediction:"
   ]
  },
  {
   "cell_type": "code",
   "execution_count": 25,
   "metadata": {},
   "outputs": [],
   "source": [
    "nb_predictions = nb_classifier.predict(\n",
    "    conference_bow_tfidf_test)"
   ]
  },
  {
   "cell_type": "markdown",
   "metadata": {},
   "source": [
    "We can now evaluate the model and determine its precision. We will be doing this by making use of a classification report from sklearn."
   ]
  },
  {
   "cell_type": "code",
   "execution_count": 27,
   "metadata": {
    "scrolled": true
   },
   "outputs": [
    {
     "name": "stdout",
     "output_type": "stream",
     "text": [
      "             precision    recall  f1-score   support\n",
      "\n",
      "    INFOCOM       0.76      0.80      0.78       502\n",
      "      ISCAS       0.92      0.96      0.94      2043\n",
      "   SIGGRAPH       0.95      0.56      0.70       186\n",
      "       VLDB       0.60      0.72      0.65       219\n",
      "        WWW       0.83      0.68      0.75       423\n",
      "\n",
      "avg / total       0.87      0.86      0.86      3373\n",
      "\n"
     ]
    }
   ],
   "source": [
    "from sklearn.metrics import classification_report\n",
    "print (classification_report(test_df['Conference Name'], nb_predictions))"
   ]
  },
  {
   "cell_type": "markdown",
   "metadata": {},
   "source": [
    "Although this model accurately predicts 87% of the titles to the right conference names, it is worth investigating other models to determine if the accuracy can be increased. In order to investigate other classifiers we need to take advantage of sklearn's several modules and pandas dataframes. We need to do this because the semi-mannual data preparation performed in this notebook thus far is time consuming. \n",
    "\n",
    "First, we need to combine all the data into one dataframe including all the test set and train set. We do that in order to use sklearn's test_train splitter such that all the data manipulation is done in one step. Furthermore, we will be using factorization methods from pandas to represent the conferences as integers to make it easier for the classifiers."
   ]
  },
  {
   "cell_type": "code",
   "execution_count": 41,
   "metadata": {
    "scrolled": false
   },
   "outputs": [
    {
     "name": "stdout",
     "output_type": "stream",
     "text": [
      "<class 'pandas.core.frame.DataFrame'>\n",
      "Int64Index: 25016 entries, 0 to 3372\n",
      "Data columns (total 2 columns):\n",
      "Conference Name    25016 non-null object\n",
      "Title              25016 non-null object\n",
      "dtypes: object(2)\n",
      "memory usage: 586.3+ KB\n"
     ]
    }
   ],
   "source": [
    "df1 = pd.read_csv('datasets/DBLPTrainset.txt',sep='\\t',names=['Conference Name', 'Title'])\n",
    "\n",
    "df2 = pd.read_csv('datasets/DBLPTestGroundTruth.txt',sep='\\t',names=['Conference Name'])\n",
    "_df2 = pd.read_csv('datasets/DBLPTestset.txt',sep='\\t',names=['Title'])\n",
    "df2['Title'] = _df2['Title'] \n",
    "\n",
    "frames = [df1, df2]\n",
    "main_df = pd.concat(frames)\n",
    "\n",
    "\n",
    "main_df.info()"
   ]
  },
  {
   "cell_type": "code",
   "execution_count": 43,
   "metadata": {},
   "outputs": [
    {
     "data": {
      "text/html": [
       "<div>\n",
       "<style scoped>\n",
       "    .dataframe tbody tr th:only-of-type {\n",
       "        vertical-align: middle;\n",
       "    }\n",
       "\n",
       "    .dataframe tbody tr th {\n",
       "        vertical-align: top;\n",
       "    }\n",
       "\n",
       "    .dataframe thead th {\n",
       "        text-align: right;\n",
       "    }\n",
       "</style>\n",
       "<table border=\"1\" class=\"dataframe\">\n",
       "  <thead>\n",
       "    <tr style=\"text-align: right;\">\n",
       "      <th></th>\n",
       "      <th>Conference Name</th>\n",
       "      <th>Title</th>\n",
       "      <th>con_id</th>\n",
       "    </tr>\n",
       "  </thead>\n",
       "  <tbody>\n",
       "    <tr>\n",
       "      <th>0</th>\n",
       "      <td>ISCAS</td>\n",
       "      <td>Scalable Serial-parallel Multiplier over GF(2m...</td>\n",
       "      <td>0</td>\n",
       "    </tr>\n",
       "    <tr>\n",
       "      <th>1</th>\n",
       "      <td>SIGGRAPH</td>\n",
       "      <td>Plenoptic sampling.</td>\n",
       "      <td>1</td>\n",
       "    </tr>\n",
       "    <tr>\n",
       "      <th>2</th>\n",
       "      <td>ISCAS</td>\n",
       "      <td>Sensitivity and uniformity of a 0.18micrometer...</td>\n",
       "      <td>0</td>\n",
       "    </tr>\n",
       "    <tr>\n",
       "      <th>3</th>\n",
       "      <td>WWW</td>\n",
       "      <td>A survey of web archive search architectures.</td>\n",
       "      <td>2</td>\n",
       "    </tr>\n",
       "    <tr>\n",
       "      <th>4</th>\n",
       "      <td>ISCAS</td>\n",
       "      <td>Understanding dynamic behavior of mm-wave CML ...</td>\n",
       "      <td>0</td>\n",
       "    </tr>\n",
       "  </tbody>\n",
       "</table>\n",
       "</div>"
      ],
      "text/plain": [
       "  Conference Name                                              Title  con_id\n",
       "0           ISCAS  Scalable Serial-parallel Multiplier over GF(2m...       0\n",
       "1        SIGGRAPH                                Plenoptic sampling.       1\n",
       "2           ISCAS  Sensitivity and uniformity of a 0.18micrometer...       0\n",
       "3             WWW      A survey of web archive search architectures.       2\n",
       "4           ISCAS  Understanding dynamic behavior of mm-wave CML ...       0"
      ]
     },
     "execution_count": 43,
     "metadata": {},
     "output_type": "execute_result"
    }
   ],
   "source": [
    "main_df['con_id'] = main_df['Conference Name'].factorize()[0]\n",
    "main_df.head()"
   ]
  },
  {
   "cell_type": "markdown",
   "metadata": {},
   "source": [
    "#### Process the text"
   ]
  },
  {
   "cell_type": "code",
   "execution_count": 49,
   "metadata": {},
   "outputs": [],
   "source": [
    "from sklearn.feature_extraction.text import TfidfVectorizer\n",
    "\n",
    "tfidf = TfidfVectorizer()\n",
    "\n",
    "features = tfidf.fit_transform(main_df.Title).toarray()\n",
    "labels = main_df.con_id"
   ]
  },
  {
   "cell_type": "markdown",
   "metadata": {},
   "source": [
    "## Estimating Accuracy of Different Models\n",
    "\n",
    "Let us now roughly examine different classifier models by using the cross_val_score() method from sklearn. This method would allow us to estimate the accuracy on the given dataset by splitting the data, fitting it to the given model and calculating the accuracy score a given number of consecutive times. It is important to note that the results given by this method are rough, meaning that they can be made better by manually adjusting different parameters.\n",
    "\n",
    "The following code will roughly determine the accuracy of the following classifier models:\n",
    "- Logistic regression\n",
    "- Random forest classifier\n",
    "- Linear support vector classification\n",
    "- SGDClassifier"
   ]
  },
  {
   "cell_type": "code",
   "execution_count": 48,
   "metadata": {},
   "outputs": [],
   "source": [
    "from sklearn.model_selection import cross_val_score\n",
    "\n",
    "from sklearn.linear_model import LogisticRegression\n",
    "from sklearn.ensemble import RandomForestClassifier\n",
    "from sklearn.svm import LinearSVC\n",
    "from sklearn.linear_model import SGDClassifier"
   ]
  },
  {
   "cell_type": "code",
   "execution_count": 46,
   "metadata": {},
   "outputs": [],
   "source": [
    "models = [LogisticRegression(random_state=0),\n",
    "    RandomForestClassifier(),\n",
    "    LinearSVC(),\n",
    "    SGDClassifier()\n",
    "]"
   ]
  },
  {
   "cell_type": "markdown",
   "metadata": {},
   "source": [
    "Note: The code below might take some time to run."
   ]
  },
  {
   "cell_type": "code",
   "execution_count": 50,
   "metadata": {},
   "outputs": [
    {
     "name": "stderr",
     "output_type": "stream",
     "text": [
      "C:\\Users\\User\\Anaconda3\\lib\\site-packages\\sklearn\\linear_model\\stochastic_gradient.py:128: FutureWarning: max_iter and tol parameters have been added in <class 'sklearn.linear_model.stochastic_gradient.SGDClassifier'> in 0.19. If both are left unset, they default to max_iter=5 and tol=None. If tol is not None, max_iter defaults to max_iter=1000. From 0.21, default max_iter will be 1000, and default tol will be 1e-3.\n",
      "  \"and default tol will be 1e-3.\" % type(self), FutureWarning)\n",
      "C:\\Users\\User\\Anaconda3\\lib\\site-packages\\sklearn\\linear_model\\stochastic_gradient.py:128: FutureWarning: max_iter and tol parameters have been added in <class 'sklearn.linear_model.stochastic_gradient.SGDClassifier'> in 0.19. If both are left unset, they default to max_iter=5 and tol=None. If tol is not None, max_iter defaults to max_iter=1000. From 0.21, default max_iter will be 1000, and default tol will be 1e-3.\n",
      "  \"and default tol will be 1e-3.\" % type(self), FutureWarning)\n",
      "C:\\Users\\User\\Anaconda3\\lib\\site-packages\\sklearn\\linear_model\\stochastic_gradient.py:128: FutureWarning: max_iter and tol parameters have been added in <class 'sklearn.linear_model.stochastic_gradient.SGDClassifier'> in 0.19. If both are left unset, they default to max_iter=5 and tol=None. If tol is not None, max_iter defaults to max_iter=1000. From 0.21, default max_iter will be 1000, and default tol will be 1e-3.\n",
      "  \"and default tol will be 1e-3.\" % type(self), FutureWarning)\n",
      "C:\\Users\\User\\Anaconda3\\lib\\site-packages\\sklearn\\linear_model\\stochastic_gradient.py:128: FutureWarning: max_iter and tol parameters have been added in <class 'sklearn.linear_model.stochastic_gradient.SGDClassifier'> in 0.19. If both are left unset, they default to max_iter=5 and tol=None. If tol is not None, max_iter defaults to max_iter=1000. From 0.21, default max_iter will be 1000, and default tol will be 1e-3.\n",
      "  \"and default tol will be 1e-3.\" % type(self), FutureWarning)\n",
      "C:\\Users\\User\\Anaconda3\\lib\\site-packages\\sklearn\\linear_model\\stochastic_gradient.py:128: FutureWarning: max_iter and tol parameters have been added in <class 'sklearn.linear_model.stochastic_gradient.SGDClassifier'> in 0.19. If both are left unset, they default to max_iter=5 and tol=None. If tol is not None, max_iter defaults to max_iter=1000. From 0.21, default max_iter will be 1000, and default tol will be 1e-3.\n",
      "  \"and default tol will be 1e-3.\" % type(self), FutureWarning)\n"
     ]
    }
   ],
   "source": [
    "CV = 5\n",
    "models_df = pd.DataFrame(index=range(CV * len(models)))\n",
    "entries = []\n",
    "\n",
    "for model in models:\n",
    "    model_name = model.__class__.__name__\n",
    "    accuracies = cross_val_score(model, features,\n",
    "                        labels, scoring='accuracy',cv=CV)\n",
    "    for fold_idx, accuracy in enumerate(accuracies):\n",
    "        entries.append((model_name, fold_idx, accuracy))\n",
    "\n",
    "models_df = pd.DataFrame(entries,columns=['Model','fold_idx','Accuracy'])"
   ]
  },
  {
   "cell_type": "markdown",
   "metadata": {},
   "source": [
    "### Visualizing Accuracies of Different Models\n",
    "\n",
    "Now that we have roughly estimated the accuracy of different classifiers, we can now visualize the accuracy:"
   ]
  },
  {
   "cell_type": "code",
   "execution_count": 69,
   "metadata": {},
   "outputs": [
    {
     "data": {
      "image/png": "[encoded data removed]",
      "text/plain": [
       "<Figure size 648x360 with 1 Axes>"
      ]
     },
     "metadata": {},
     "output_type": "display_data"
    }
   ],
   "source": [
    "fig, ax = plt.subplots(1, figsize=(9,5))\n",
    "\n",
    "#sns.boxplot(x='Model',y='Accuracy',data=models_df)\n",
    "sns.stripplot(x='Model',y='Accuracy',ax=ax,\n",
    "            data=models_df,size=8,\n",
    "            jitter=False,edgecolor=\"gray\",linewidth=1)\n",
    "\n",
    "ax.set_ylim([0,1])\n",
    "plt.tight_layout()\n",
    "plt.show()"
   ]
  },
  {
   "cell_type": "code",
   "execution_count": 72,
   "metadata": {},
   "outputs": [
    {
     "data": {
      "text/plain": [
       "Model\n",
       "LinearSVC                 0.866883\n",
       "LogisticRegression        0.850493\n",
       "RandomForestClassifier    0.755951\n",
       "SGDClassifier             0.861328\n",
       "Name: Accuracy, dtype: float64"
      ]
     },
     "execution_count": 72,
     "metadata": {},
     "output_type": "execute_result"
    }
   ],
   "source": [
    "models_df.groupby('Model').Accuracy.mean()"
   ]
  },
  {
   "cell_type": "markdown",
   "metadata": {},
   "source": [
    "### Testing Best Classifier\n",
    "\n",
    "Now that we know linear support vector classifier is the best, we can manually test it to see how well it predicts given titles."
   ]
  },
  {
   "cell_type": "code",
   "execution_count": 73,
   "metadata": {
    "scrolled": true
   },
   "outputs": [
    {
     "name": "stdout",
     "output_type": "stream",
     "text": [
      "             precision    recall  f1-score   support\n",
      "\n",
      "    INFOCOM       0.73      0.77      0.75       502\n",
      "      ISCAS       0.95      0.90      0.93      2043\n",
      "   SIGGRAPH       0.70      0.81      0.75       186\n",
      "       VLDB       0.54      0.77      0.63       219\n",
      "        WWW       0.79      0.73      0.76       423\n",
      "\n",
      "avg / total       0.86      0.85      0.85      3373\n",
      "\n"
     ]
    }
   ],
   "source": [
    "svc_classifier = LinearSVC()\n",
    "svc_classifier.fit(conference_bow_tfidf, train_df['Conference Name'])\n",
    "\n",
    "svc_predictions = svc_classifier.predict(\n",
    "    conference_bow_tfidf_test)\n",
    "\n",
    "print (classification_report(test_df['Conference Name'], svc_predictions))"
   ]
  },
  {
   "cell_type": "markdown",
   "metadata": {},
   "source": [
    "It seems that the first classifier used in this notebook, MultinomialNB(), performed slightly better than LinearSVC() at an accuracy of 87%. We will not visualize the best classifier and see how many of the titles were classified correctly and incorrectly, we will be doing this by using a heatmap:"
   ]
  },
  {
   "cell_type": "markdown",
   "metadata": {},
   "source": [
    "### Visualizing the Best Classifier\n",
    "\n",
    "Before visualizing the results, we need to perform some data manipulations using pandas and python dictionaries:"
   ]
  },
  {
   "cell_type": "code",
   "execution_count": 82,
   "metadata": {},
   "outputs": [],
   "source": [
    "df = main_df\n",
    "df.rename(columns={'Conference Name':'con'},inplace=True)\n",
    "category_id_df = df[['con', 'con_id']].drop_duplicates().sort_values('con_id')\n",
    "category_to_id = dict(category_id_df.values)\n",
    "id_to_category = dict(category_id_df[['con_id', 'con']].values)"
   ]
  },
  {
   "cell_type": "code",
   "execution_count": 87,
   "metadata": {},
   "outputs": [
    {
     "data": {
      "image/png": "[encoded data removed]",
      "text/plain": [
       "<Figure size 720x720 with 2 Axes>"
      ]
     },
     "metadata": {},
     "output_type": "display_data"
    }
   ],
   "source": [
    "from sklearn.model_selection import train_test_split\n",
    "\n",
    "model = MultinomialNB()\n",
    "\n",
    "X_train, X_test, y_train, y_test, indices_train, indices_test = train_test_split(features, labels, main_df.index, test_size=0.33, random_state=0)\n",
    "model.fit(X_train, y_train)\n",
    "\n",
    "y_pred = model.predict(X_test)\n",
    "\n",
    "from sklearn.metrics import confusion_matrix\n",
    "\n",
    "conf_mat = confusion_matrix(y_test, y_pred)\n",
    "fig, ax = plt.subplots(figsize=(10,10))\n",
    "sns.heatmap(conf_mat, annot=True, fmt='d',\n",
    "            xticklabels=category_id_df.con.values,\n",
    "            yticklabels=category_id_df.con.values,\n",
    "           cmap=\"BuPu\")\n",
    "plt.ylabel('Actual')\n",
    "plt.xlabel('Predicted')\n",
    "plt.show()"
   ]
  },
  {
   "cell_type": "markdown",
   "metadata": {},
   "source": [
    "### Further Improvements\n",
    "\n",
    "- ISCAS: High accuracy problem, due to high occurence fix XXXXXXXXXX"
   ]
  },
  {
   "cell_type": "code",
   "execution_count": null,
   "metadata": {},
   "outputs": [],
   "source": []
  }
 ],
 "metadata": {
  "kernelspec": {
   "display_name": "Python 3",
   "language": "python",
   "name": "python3"
  },
  "language_info": {
   "codemirror_mode": {
    "name": "ipython",
    "version": 3
   },
   "file_extension": ".py",
   "mimetype": "text/x-python",
   "name": "python",
   "nbconvert_exporter": "python",
   "pygments_lexer": "ipython3",
   "version": "3.6.5"
  }
 },
 "nbformat": 4,
 "nbformat_minor": 2
}
